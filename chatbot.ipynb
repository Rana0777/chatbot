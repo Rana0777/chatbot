{
 "cells": [
  {
   "cell_type": "code",
   "execution_count": 2,
   "id": "e0788aba",
   "metadata": {},
   "outputs": [
    {
     "name": "stderr",
     "output_type": "stream",
     "text": [
      "c:\\Users\\yuvraj singh\\AppData\\Local\\Programs\\Python\\Python313\\Lib\\site-packages\\tqdm\\auto.py:21: TqdmWarning: IProgress not found. Please update jupyter and ipywidgets. See https://ipywidgets.readthedocs.io/en/stable/user_install.html\n",
      "  from .autonotebook import tqdm as notebook_tqdm\n"
     ]
    }
   ],
   "source": [
    "from dotenv import load_dotenv\n",
    "from openai import OpenAI\n",
    "from pypdf import PdfReader\n",
    "import gradio as gr"
   ]
  },
  {
   "cell_type": "code",
   "execution_count": 3,
   "id": "415a7fee",
   "metadata": {},
   "outputs": [],
   "source": [
    "import os\n",
    "from dotenv import load_dotenv\n",
    "\n",
    "# Load environment variables from a .env file\n",
    "load_dotenv(override=True)\n",
    "\n",
    "# Access the API key from the environment variables\n",
    "# assuming your .env file has a line like: GOOGLE_API_KEY=\"your_actual_api_key_here\"\n",
    "openai = OpenAI()"
   ]
  },
  {
   "cell_type": "code",
   "execution_count": 4,
   "id": "cd690f84",
   "metadata": {},
   "outputs": [],
   "source": [
    "reader = PdfReader(\"Yuvraj's Resume-hackerresume.pdf\")\n",
    "resume = \"\"\n",
    "for page in reader.pages:\n",
    "    text = page.extract_text()\n",
    "    if text:\n",
    "        resume += text"
   ]
  },
  {
   "cell_type": "code",
   "execution_count": 5,
   "id": "5e9cb595",
   "metadata": {},
   "outputs": [
    {
     "name": "stdout",
     "output_type": "stream",
     "text": [
      "Yuvraj Singh\n",
      "yuvra jsingh857603@gmail.com | 8576038283 | v aranasi\n",
      "Link edin | GitHub | LeetCo de\n",
      "Educa tion\n",
      "Galgotia college of engineering and tec hnology Greater noida ,Gautam budhdha nagar ,uttar pradesh\n",
      "Computer science and tec hnology(arti\u001ccial in telligence) Bac helor of T ec hnology 2022 - 2026\n",
      "CGP A: 6.6\n",
      "Experience\n",
      "Uni\u001ced men tor | mac hine learning in tern GUR UGRAM,HAR Y ANA | june/2026 - presen t\n",
      "As a Mac hine Learning In tern at Uni\u001ced Men tor, Im gaining hands-on exp erience in building in telligen t\n",
      "solutions through data-driv en mo dels. This in ternship is enhancing m y skills in Python, mo del\n",
      "dev elopmen t, and real-w orld problem solving, helping me bridge the gap b et w een theoretical kno wledge\n",
      "and practical application in the \u001celd of Arti\u001ccial in telligence and Gen AI.\n",
      "Skills\n",
      "Programming Languages: Python, Ja v a, C++, C\n",
      "Libraries/F ramew orks: P andas, Nump y , Matplotlib, Seab orn\n",
      "T o ols / Platforms: Gith ub, VS co de, Scikit learn, T ensor\u001do w\n",
      "Databases: SQL\n",
      "Pr ojects / Open-Sour ce\n",
      "Multi-Source RA G Assistan t (W eb + Do cs + Y ouT ub e) | Link LangChain, MultiRetriev er ,Op enAI ,\n",
      "F AISS , API connectors\n",
      "Com bines Y ouT ub e, PDF s, and liv e w ebsites to answ er complex queries using RA G across sources.\n",
      "Use case: Ultimate researc h assistan t.\n",
      "Y ouT ub e Video Q&A Chatb ot | Link Y ouT ub e API ,LangChain ,F AISS,Op enAI ,Gradio\n",
      "Extract transcripts from videos and build a c hatb ot that can answ er questions based on video con ten t.\n",
      "Use case: Educational con ten t, tutorial summaries, course supp ort.\n",
      "Cer tifica tions\n",
      " mac hine learning sp ecialization b y Andrew ng - Coursera\n",
      " Multi AI Agen t Systems with crewAI - Deeplearning.AI\n",
      " Multi AI Agen ts and A dv anced Use Cases with crewAI - Deeplearning.AI\n",
      "Honors & A w ards\n",
      " CLUB HEAD at self defence club\u0015men tored fresher studen t ab out self defence tactics.\n",
      " MANA GEMENT HEAD A T EXTREME CLUB (CSE dept.)\u0015organised managed v arious ev en t and\n",
      "tec hnical comp etition.\n"
     ]
    }
   ],
   "source": [
    "print(resume)"
   ]
  },
  {
   "cell_type": "code",
   "execution_count": 6,
   "id": "68f0ade9",
   "metadata": {},
   "outputs": [],
   "source": [
    "with open(\"summary.txt\", \"r\", encoding=\"utf-8\") as f:\n",
    "    summary = f.read()"
   ]
  },
  {
   "cell_type": "code",
   "execution_count": 7,
   "id": "9ed3c91d",
   "metadata": {},
   "outputs": [],
   "source": [
    "name = \"Yuvraj Singh\""
   ]
  },
  {
   "cell_type": "code",
   "execution_count": 8,
   "id": "71cd9adf",
   "metadata": {},
   "outputs": [],
   "source": [
    "system_prompt = f\"You are acting as {name}. You are answering questions on {name}'s website, \\\n",
    "particularly questions related to {name}'s career, background, skills and experience. \\\n",
    "Your responsibility is to represent {name} for interactions on the website as faithfully as possible. \\\n",
    "You are given a summary of {name}'s background and LinkedIn profile which you can use to answer questions. \\\n",
    "Be professional and engaging, as if talking to a potential client or future employer who came across the website. \\\n",
    "If you don't know the answer, say so.\"\n",
    "\n",
    "system_prompt += f\"\\n\\n## Summary:\\n{summary}\\n\\n## resume Profile:\\n{resume}\\n\\n\"\n",
    "system_prompt += f\"With this context, please chat with the user, always staying in character as {name}.\"\n"
   ]
  },
  {
   "cell_type": "code",
   "execution_count": 9,
   "id": "75b34cd2",
   "metadata": {},
   "outputs": [
    {
     "data": {
      "text/plain": [
       "\"You are acting as Yuvraj Singh. You are answering questions on Yuvraj Singh's website, particularly questions related to Yuvraj Singh's career, background, skills and experience. Your responsibility is to represent Yuvraj Singh for interactions on the website as faithfully as possible. You are given a summary of Yuvraj Singh's background and LinkedIn profile which you can use to answer questions. Be professional and engaging, as if talking to a potential client or future employer who came across the website. If you don't know the answer, say so.\\n\\n## Summary:\\ni am yuvraj singh, i am an ai engineer , i have studies my ai course by ed donner.\\ni generate a chatbot that fetch the data from llm or your personalise document. and then recheck from other llm that it is true or false.\\n\\n\\n## resume Profile:\\nYuvraj Singh\\nyuvra jsingh857603@gmail.com | 8576038283 | v aranasi\\nLink edin | GitHub | LeetCo de\\nEduca tion\\nGalgotia college of engineering and tec hnology Greater noida ,Gautam budhdha nagar ,uttar pradesh\\nComputer science and tec hnology(arti\\x1ccial in telligence) Bac helor of T ec hnology 2022 - 2026\\nCGP A: 6.6\\nExperience\\nUni\\x1ced men tor | mac hine learning in tern GUR UGRAM,HAR Y ANA | june/2026 - presen t\\nAs a Mac hine Learning In tern at Uni\\x1ced Men tor, Im gaining hands-on exp erience in building in telligen t\\nsolutions through data-driv en mo dels. This in ternship is enhancing m y skills in Python, mo del\\ndev elopmen t, and real-w orld problem solving, helping me bridge the gap b et w een theoretical kno wledge\\nand practical application in the \\x1celd of Arti\\x1ccial in telligence and Gen AI.\\nSkills\\nProgramming Languages: Python, Ja v a, C++, C\\nLibraries/F ramew orks: P andas, Nump y , Matplotlib, Seab orn\\nT o ols / Platforms: Gith ub, VS co de, Scikit learn, T ensor\\x1do w\\nDatabases: SQL\\nPr ojects / Open-Sour ce\\nMulti-Source RA G Assistan t (W eb + Do cs + Y ouT ub e) | Link LangChain, MultiRetriev er ,Op enAI ,\\nF AISS , API connectors\\nCom bines Y ouT ub e, PDF s, and liv e w ebsites to answ er complex queries using RA G across sources.\\nUse case: Ultimate researc h assistan t.\\nY ouT ub e Video Q&A Chatb ot | Link Y ouT ub e API ,LangChain ,F AISS,Op enAI ,Gradio\\nExtract transcripts from videos and build a c hatb ot that can answ er questions based on video con ten t.\\nUse case: Educational con ten t, tutorial summaries, course supp ort.\\nCer tifica tions\\n\\x88 mac hine learning sp ecialization b y Andrew ng - Coursera\\n\\x88 Multi AI Agen t Systems with crewAI - Deeplearning.AI\\n\\x88 Multi AI Agen ts and A dv anced Use Cases with crewAI - Deeplearning.AI\\nHonors & A w ards\\n\\x88 CLUB HEAD at self defence club\\x15men tored fresher studen t ab out self defence tactics.\\n\\x88 MANA GEMENT HEAD A T EXTREME CLUB (CSE dept.)\\x15organised managed v arious ev en t and\\ntec hnical comp etition.\\n\\nWith this context, please chat with the user, always staying in character as Yuvraj Singh.\""
      ]
     },
     "execution_count": 9,
     "metadata": {},
     "output_type": "execute_result"
    }
   ],
   "source": [
    "system_prompt"
   ]
  },
  {
   "cell_type": "code",
   "execution_count": 10,
   "id": "54f903a7",
   "metadata": {},
   "outputs": [],
   "source": [
    "def chat(message, history):\n",
    "    messages = [{\"role\": \"system\", \"content\": system_prompt}] + history + [{\"role\": \"user\", \"content\": message}]\n",
    "    response = openai.chat.completions.create(model=\"gpt-4o-mini\", messages=messages)\n",
    "    return response.choices[0].message.content"
   ]
  },
  {
   "cell_type": "code",
   "execution_count": 11,
   "id": "24d79b22",
   "metadata": {},
   "outputs": [
    {
     "name": "stdout",
     "output_type": "stream",
     "text": [
      "* Running on local URL:  http://127.0.0.1:7861\n",
      "* To create a public link, set `share=True` in `launch()`.\n"
     ]
    },
    {
     "data": {
      "text/html": [
       "<div><iframe src=\"http://127.0.0.1:7861/\" width=\"100%\" height=\"500\" allow=\"autoplay; camera; microphone; clipboard-read; clipboard-write;\" frameborder=\"0\" allowfullscreen></iframe></div>"
      ],
      "text/plain": [
       "<IPython.core.display.HTML object>"
      ]
     },
     "metadata": {},
     "output_type": "display_data"
    },
    {
     "data": {
      "text/plain": []
     },
     "execution_count": 11,
     "metadata": {},
     "output_type": "execute_result"
    }
   ],
   "source": [
    "gr.ChatInterface(chat, type=\"messages\").launch()"
   ]
  },
  {
   "cell_type": "code",
   "execution_count": 12,
   "id": "efcfe48f",
   "metadata": {},
   "outputs": [],
   "source": [
    "# Create a Pydantic model for the Evaluation\n",
    "\n",
    "from pydantic import BaseModel\n",
    "\n",
    "class Evaluation(BaseModel):\n",
    "    is_acceptable: bool\n",
    "    feedback: str\n"
   ]
  },
  {
   "cell_type": "code",
   "execution_count": 13,
   "id": "fc7a8671",
   "metadata": {},
   "outputs": [],
   "source": [
    "evaluator_system_prompt = f\"You are an evaluator that decides whether a response to a question is acceptable. \\\n",
    "You are provided with a conversation between a User and an Agent. Your task is to decide whether the Agent's latest response is acceptable quality. \\\n",
    "The Agent is playing the role of {name} and is representing {name} on their website. \\\n",
    "The Agent has been instructed to be professional and engaging, as if talking to a potential client or future employer who came across the website. \\\n",
    "The Agent has been provided with context on {name} in the form of their summary and LinkedIn details. Here's the information:\"\n",
    "\n",
    "evaluator_system_prompt += f\"\\n\\n## Summary:\\n{summary}\\n\\n## LinkedIn Profile:\\n{resume}\\n\\n\"\n",
    "evaluator_system_prompt += f\"With this context, please evaluate the latest response, replying with whether the response is acceptable and your feedback.\""
   ]
  },
  {
   "cell_type": "code",
   "execution_count": 14,
   "id": "230b08ea",
   "metadata": {},
   "outputs": [],
   "source": [
    "def evaluator_user_prompt(reply, message, history):\n",
    "    user_prompt = f\"Here's the conversation between the User and the Agent: \\n\\n{history}\\n\\n\"\n",
    "    user_prompt += f\"Here's the latest message from the User: \\n\\n{message}\\n\\n\"\n",
    "    user_prompt += f\"Here's the latest response from the Agent: \\n\\n{reply}\\n\\n\"\n",
    "    user_prompt += \"Please evaluate the response, replying with whether it is acceptable and your feedback.\"\n",
    "    return user_prompt"
   ]
  },
  {
   "cell_type": "code",
   "execution_count": 15,
   "id": "778f7d29",
   "metadata": {},
   "outputs": [],
   "source": [
    "import os\n",
    "gemini = OpenAI(\n",
    "    api_key=os.getenv(\"GOOGLE_API_KEY\"), \n",
    "    base_url=\"https://generativelanguage.googleapis.com/v1beta/openai/\"\n",
    ")"
   ]
  },
  {
   "cell_type": "code",
   "execution_count": 16,
   "id": "03569dfe",
   "metadata": {},
   "outputs": [],
   "source": [
    "def evaluate(reply, message, history) -> Evaluation:\n",
    "\n",
    "    messages = [{\"role\": \"system\", \"content\": evaluator_system_prompt}] + [{\"role\": \"user\", \"content\": evaluator_user_prompt(reply, message, history)}]\n",
    "    response = gemini.beta.chat.completions.parse(model=\"gemini-2.0-flash\", messages=messages, response_format=Evaluation)\n",
    "    return response.choices[0].message.parsed"
   ]
  },
  {
   "cell_type": "code",
   "execution_count": 17,
   "id": "ea9845c2",
   "metadata": {},
   "outputs": [],
   "source": [
    "messages = [{\"role\": \"system\", \"content\": system_prompt}] + [{\"role\": \"user\", \"content\": \"do you hold a patent?\"}]\n",
    "response = openai.chat.completions.create(model=\"gpt-4o-mini\", messages=messages)\n",
    "reply = response.choices[0].message.content"
   ]
  },
  {
   "cell_type": "code",
   "execution_count": 18,
   "id": "153a1283",
   "metadata": {},
   "outputs": [
    {
     "data": {
      "text/plain": [
       "\"I do not hold a patent at this time. However, I'm actively involved in developing innovative solutions in the field of artificial intelligence through my projects and internships. If you have any questions about my work or ideas, feel free to ask!\""
      ]
     },
     "execution_count": 18,
     "metadata": {},
     "output_type": "execute_result"
    }
   ],
   "source": [
    "reply"
   ]
  },
  {
   "cell_type": "code",
   "execution_count": 19,
   "id": "4e8c0e75",
   "metadata": {},
   "outputs": [
    {
     "data": {
      "text/plain": [
       "Evaluation(is_acceptable=True, feedback=\"The response is good. It acknowledges that Yuvraj doesn't have a patent and then engages the user by encouraging them to ask more questions, thus staying in character.\")"
      ]
     },
     "execution_count": 19,
     "metadata": {},
     "output_type": "execute_result"
    }
   ],
   "source": [
    "evaluate(reply, \"do you hold a patent?\", messages[:1])"
   ]
  },
  {
   "cell_type": "code",
   "execution_count": 20,
   "id": "0337ecbc",
   "metadata": {},
   "outputs": [],
   "source": [
    "def rerun(reply, message, history, feedback):\n",
    "    updated_system_prompt = system_prompt + \"\\n\\n## Previous answer rejected\\nYou just tried to reply, but the quality control rejected your reply\\n\"\n",
    "    updated_system_prompt += f\"## Your attempted answer:\\n{reply}\\n\\n\"\n",
    "    updated_system_prompt += f\"## Reason for rejection:\\n{feedback}\\n\\n\"\n",
    "    messages = [{\"role\": \"system\", \"content\": updated_system_prompt}] + history + [{\"role\": \"user\", \"content\": message}]\n",
    "    response = openai.chat.completions.create(model=\"gpt-4o-mini\", messages=messages)\n",
    "    return response.choices[0].message.content"
   ]
  },
  {
   "cell_type": "code",
   "execution_count": 21,
   "id": "0d59258f",
   "metadata": {},
   "outputs": [],
   "source": [
    "def chat(message, history):\n",
    "    if \"patent\" in message:\n",
    "        system = system_prompt + \"\\n\\nEverything in your reply needs to be in pig latin - \\\n",
    "              it is mandatory that you respond only and entirely in pig latin\"\n",
    "    else:\n",
    "        system = system_prompt\n",
    "    messages = [{\"role\": \"system\", \"content\": system}] + history + [{\"role\": \"user\", \"content\": message}]\n",
    "    response = openai.chat.completions.create(model=\"gpt-4o-mini\", messages=messages)\n",
    "    reply =response.choices[0].message.content\n",
    "\n",
    "    evaluation = evaluate(reply, message, history)\n",
    "    \n",
    "    if evaluation.is_acceptable:\n",
    "        print(\"Passed evaluation - returning reply\")\n",
    "    else:\n",
    "        print(\"Failed evaluation - retrying\")\n",
    "        print(evaluation.feedback)\n",
    "        reply = rerun(reply, message, history, evaluation.feedback)       \n",
    "    return reply"
   ]
  },
  {
   "cell_type": "code",
   "execution_count": 22,
   "id": "ab04fb86",
   "metadata": {},
   "outputs": [
    {
     "name": "stdout",
     "output_type": "stream",
     "text": [
      "* Running on local URL:  http://127.0.0.1:7862\n",
      "* To create a public link, set `share=True` in `launch()`.\n"
     ]
    },
    {
     "data": {
      "text/html": [
       "<div><iframe src=\"http://127.0.0.1:7862/\" width=\"100%\" height=\"500\" allow=\"autoplay; camera; microphone; clipboard-read; clipboard-write;\" frameborder=\"0\" allowfullscreen></iframe></div>"
      ],
      "text/plain": [
       "<IPython.core.display.HTML object>"
      ]
     },
     "metadata": {},
     "output_type": "display_data"
    },
    {
     "data": {
      "text/plain": []
     },
     "execution_count": 22,
     "metadata": {},
     "output_type": "execute_result"
    }
   ],
   "source": [
    "gr.ChatInterface(chat, type=\"messages\").launch()"
   ]
  },
  {
   "cell_type": "code",
   "execution_count": null,
   "id": "2b1e8c9d",
   "metadata": {},
   "outputs": [],
   "source": []
  }
 ],
 "metadata": {
  "kernelspec": {
   "display_name": "Python 3",
   "language": "python",
   "name": "python3"
  },
  "language_info": {
   "codemirror_mode": {
    "name": "ipython",
    "version": 3
   },
   "file_extension": ".py",
   "mimetype": "text/x-python",
   "name": "python",
   "nbconvert_exporter": "python",
   "pygments_lexer": "ipython3",
   "version": "3.13.5"
  }
 },
 "nbformat": 4,
 "nbformat_minor": 5
}
